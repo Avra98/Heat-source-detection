{
 "cells": [
  {
   "cell_type": "markdown",
   "metadata": {},
   "source": [
    "# This notebook generates the 1D heat-source reconstruction results in the paper \"Deblurring a signal as inverting a heat source\" and it's appendix."
   ]
  },
  {
   "cell_type": "code",
   "execution_count": 1,
   "metadata": {},
   "outputs": [],
   "source": [
    "import torch\n",
    "import torch.nn as nn\n",
    "import torch.nn.functional as F\n",
    "import matplotlib.pylab as plt\n",
    "import pickle\n",
    "import scipy.io as sio\n",
    "import numpy as np \n",
    "from numpy.linalg import matrix_power\n",
    "import cvxpy as cp\n",
    "import scipy as sp\n",
    "import random \n",
    "import pywt\n",
    "import scipy\n",
    "from scipy.fft import ifft, fft, fftfreq, fftshift\n",
    "from math import pi, sqrt, exp\n",
    "import HSRC as heat "
   ]
  },
  {
   "cell_type": "markdown",
   "metadata": {},
   "source": [
    "### Runs Experiment-1 and its corresponding figure in the appendix. Performs reconstruction on 100 random heat measurements for various sparsity levels and plots the predicted diffusion time."
   ]
  },
  {
   "cell_type": "code",
   "execution_count": null,
   "metadata": {},
   "outputs": [],
   "source": [
    "trails=100\n",
    "store_heat = heat.exp_sparse(trials)\n",
    "plt.boxplot(data,labels=spikes)\n",
    "plt.xlabel('Sparsity')\n",
    "plt.ylabel('PSNR (dB)')\n",
    "plt.show()"
   ]
  },
  {
   "cell_type": "markdown",
   "metadata": {},
   "source": [
    "### Runs Experiment-2 and its corresponding figure in the appendix. Performs reconstruction on 100 random measurements for various number of edges in the signal and plots the PSNR."
   ]
  },
  {
   "cell_type": "code",
   "execution_count": null,
   "metadata": {},
   "outputs": [],
   "source": [
    "trails=100\n",
    "store = heat.exp(trials)\n",
    "plt.boxplot(store,labels=Number of edges)\n",
    "plt.xlabel('Sparsity')\n",
    "plt.ylabel('PSNR (dB)')\n",
    "plt.show()"
   ]
  }
 ],
 "metadata": {
  "kernelspec": {
   "display_name": "Python 3",
   "language": "python",
   "name": "python3"
  },
  "language_info": {
   "codemirror_mode": {
    "name": "ipython",
    "version": 3
   },
   "file_extension": ".py",
   "mimetype": "text/x-python",
   "name": "python",
   "nbconvert_exporter": "python",
   "pygments_lexer": "ipython3",
   "version": "3.7.6"
  }
 },
 "nbformat": 4,
 "nbformat_minor": 4
}
